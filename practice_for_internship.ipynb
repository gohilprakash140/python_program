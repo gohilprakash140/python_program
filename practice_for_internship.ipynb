{
 "cells": [
  {
   "cell_type": "markdown",
   "id": "4cb4dcbe",
   "metadata": {},
   "source": [
    "# LIST []\n"
   ]
  },
  {
   "cell_type": "code",
   "execution_count": 25,
   "id": "e823a03e",
   "metadata": {},
   "outputs": [
    {
     "data": {
      "text/plain": [
       "['john', 'karan', 'vipul']"
      ]
     },
     "execution_count": 25,
     "metadata": {},
     "output_type": "execute_result"
    }
   ],
   "source": [
    "# List\n",
    "# Lists are used to store mutiple items in a single variable.\n",
    "# Lists are created using square [] brackets\n",
    "list_A=['john','karan','vipul']\n",
    "list_A"
   ]
  },
  {
   "cell_type": "code",
   "execution_count": 26,
   "id": "3d9ef0f5",
   "metadata": {},
   "outputs": [
    {
     "data": {
      "text/plain": [
       "['xyz', 80, 'raj', 40.5, True, 'python']"
      ]
     },
     "execution_count": 26,
     "metadata": {},
     "output_type": "execute_result"
    }
   ],
   "source": [
    "#A list can contain different data types. like int,float,string,boolean\n",
    "list_B=[\"xyz\",80,\"raj\",40.5,True,\"python\"]\n",
    "list_B \n"
   ]
  },
  {
   "cell_type": "code",
   "execution_count": 36,
   "id": "efe6ef1c",
   "metadata": {},
   "outputs": [
    {
     "name": "stdout",
     "output_type": "stream",
     "text": [
      "5\n"
     ]
    }
   ],
   "source": [
    "#print list length\n",
    "\n",
    "list_c =['john','karan','vipul','ravi','rohit']\n",
    "print(len(list_c))"
   ]
  },
  {
   "cell_type": "code",
   "execution_count": 66,
   "id": "85fda431",
   "metadata": {},
   "outputs": [
    {
     "name": "stdout",
     "output_type": "stream",
     "text": [
      "<class 'list'>\n"
     ]
    }
   ],
   "source": [
    "#type() function use to check What is the data type of a list?\n",
    "list_c =['john','karan','vipul','ravi','rohit']\n",
    "print(type(list_c))\n"
   ]
  },
  {
   "cell_type": "code",
   "execution_count": 67,
   "id": "e1fd039c",
   "metadata": {},
   "outputs": [
    {
     "name": "stdout",
     "output_type": "stream",
     "text": [
      "['karan', 'vipul']\n"
     ]
    }
   ],
   "source": [
    "#Return the second and third item:\n",
    "list_c =['john','karan','vipul','ravi','rohit']\n",
    "print(list_c[1:3])\n",
    "\n"
   ]
  },
  {
   "cell_type": "code",
   "execution_count": 75,
   "id": "8a0dce1d",
   "metadata": {},
   "outputs": [
    {
     "name": "stdout",
     "output_type": "stream",
     "text": [
      "Yes, ravi in this list\n"
     ]
    }
   ],
   "source": [
    "#Check if \"ravi\" is present in the list:\n",
    "\n",
    "list_c =['john','karan','vipul','ravi','rohit']\n",
    "if 'ravi' in list_c:\n",
    "    print('Yes, ravi in this list')"
   ]
  },
  {
   "cell_type": "code",
   "execution_count": 78,
   "id": "cae3f6e6",
   "metadata": {},
   "outputs": [
    {
     "data": {
      "text/plain": [
       "['python', 'java', 'php', 'sql', 'dbms', 'mongodb', 'asp.net']"
      ]
     },
     "execution_count": 78,
     "metadata": {},
     "output_type": "execute_result"
    }
   ],
   "source": [
    "#To add an item to the end of the list, use the append() method.\n",
    "\n",
    "list1=['python','java','php','sql','dbms','mongodb']\n",
    "list1.append(\"asp.net\")\n",
    "list1"
   ]
  },
  {
   "cell_type": "code",
   "execution_count": 1,
   "id": "1ca413ec",
   "metadata": {},
   "outputs": [
    {
     "data": {
      "text/plain": [
       "['python', 'java', 'php', 'ml', 'sql', 'dbms', 'mongodb']"
      ]
     },
     "execution_count": 1,
     "metadata": {},
     "output_type": "execute_result"
    }
   ],
   "source": [
    "#Insert an item as the third position:\n",
    "list1=['python','java','php','sql','dbms','mongodb']\n",
    "list1.insert(3,'ml')\n",
    "list1"
   ]
  },
  {
   "cell_type": "code",
   "execution_count": 2,
   "id": "e887e67f",
   "metadata": {},
   "outputs": [
    {
     "name": "stdout",
     "output_type": "stream",
     "text": [
      "['python', 'java', 'php', 'sql', 'dbms', 'mongodb']\n"
     ]
    }
   ],
   "source": [
    "#To append elements from another list to the current list, use the extend() method.\n",
    "list1=['python','java','php']\n",
    "list2=['sql','dbms','mongodb']\n",
    "list1.extend(list2)\n",
    "print(list1)"
   ]
  },
  {
   "cell_type": "code",
   "execution_count": 4,
   "id": "37dcf1cd",
   "metadata": {},
   "outputs": [
    {
     "name": "stdout",
     "output_type": "stream",
     "text": [
      "['python', 'java', 'php', 'sql', 'dbms']\n"
     ]
    }
   ],
   "source": [
    "#The extend() method does not have to append lists, you can add any iterable object (tuples, sets, dictionaries etc.).\n",
    "list1=['python','java','php']\n",
    "list2_touple=('sql','dbms')\n",
    "list1.extend(list2_touple)\n",
    "print(list1)\n"
   ]
  },
  {
   "cell_type": "code",
   "execution_count": 6,
   "id": "2c445bee",
   "metadata": {},
   "outputs": [
    {
     "name": "stdout",
     "output_type": "stream",
     "text": [
      "['python', 'php']\n"
     ]
    }
   ],
   "source": [
    "#The remove() method removes the specified item.\n",
    "list1=['python','java','php']\n",
    "list1.remove('java')\n",
    "print(list1)"
   ]
  },
  {
   "cell_type": "code",
   "execution_count": 10,
   "id": "30a74cf6",
   "metadata": {},
   "outputs": [
    {
     "name": "stdout",
     "output_type": "stream",
     "text": [
      "['python', 'php']\n"
     ]
    }
   ],
   "source": [
    "#The pop() method removes the specified index.\n",
    "list1=['python','java','php']\n",
    "list1.pop(1)\n",
    "print(list1)"
   ]
  },
  {
   "cell_type": "code",
   "execution_count": 11,
   "id": "a9f83197",
   "metadata": {},
   "outputs": [
    {
     "name": "stdout",
     "output_type": "stream",
     "text": [
      "['python', 'java']\n"
     ]
    }
   ],
   "source": [
    "#If you do not specify the index, the pop() method removes the last item.\n",
    "list1=['python','java','php']\n",
    "list1.pop()\n",
    "print(list1)"
   ]
  },
  {
   "cell_type": "code",
   "execution_count": 13,
   "id": "b3b4474e",
   "metadata": {},
   "outputs": [
    {
     "name": "stdout",
     "output_type": "stream",
     "text": [
      "['java', 'php']\n"
     ]
    }
   ],
   "source": [
    "#The del keyword also removes the specified index:\n",
    "list1=['python','java','php']\n",
    "del list1[0]\n",
    "print(list1)"
   ]
  },
  {
   "cell_type": "code",
   "execution_count": 16,
   "id": "45b71430",
   "metadata": {},
   "outputs": [],
   "source": [
    "#delete entire list to help of del\n",
    "list1=['python','java','php']\n",
    "del list1"
   ]
  },
  {
   "cell_type": "code",
   "execution_count": 17,
   "id": "70bb736e",
   "metadata": {},
   "outputs": [
    {
     "name": "stdout",
     "output_type": "stream",
     "text": [
      "[]\n"
     ]
    }
   ],
   "source": [
    "# The clear() method empties the list.\n",
    "# The list still remains, but it has no content.\n",
    "# Clear the list content:\n",
    "\n",
    "list1=['python','java','php']\n",
    "list1.clear()\n",
    "print(list1)"
   ]
  },
  {
   "cell_type": "code",
   "execution_count": null,
   "id": "96c53ff9",
   "metadata": {},
   "outputs": [],
   "source": []
  },
  {
   "cell_type": "markdown",
   "id": "3eab7e9f",
   "metadata": {},
   "source": [
    "# Touple ()"
   ]
  },
  {
   "cell_type": "code",
   "execution_count": 1,
   "id": "55527a0a",
   "metadata": {},
   "outputs": [
    {
     "name": "stdout",
     "output_type": "stream",
     "text": [
      "('python', 'java', 'rdbms', 'sql', 'dbms', 'mongodb')\n"
     ]
    }
   ],
   "source": [
    "# Once a tuple is created, you cannot change its values. Tuples are unchangeable, or immutable as it also is called.\n",
    "# But there is a workaround. You can convert the tuple into a list, change the list, and convert the list back into a tuple.\n",
    "# change php to rdbms \n",
    "a=('python','java','php','sql','dbms','mongodb')\n",
    "b=list(a)\n",
    "b[2]='rdbms'\n",
    "a=tuple(b)\n",
    "print(a)\n"
   ]
  },
  {
   "cell_type": "code",
   "execution_count": 22,
   "id": "17ea26cc",
   "metadata": {},
   "outputs": [
    {
     "name": "stdout",
     "output_type": "stream",
     "text": [
      "('python', 'java', 'php', 'sql', 'dbms', 'mongodb', 'machine learning')\n"
     ]
    }
   ],
   "source": [
    "#Add Items into last \n",
    "#1. Convert into a list: Just like the workaround for changing a tuple, you can \n",
    "#convert it into a list, add your item(s), and convert it back into a tuple.\n",
    "a=('python','java','php','sql','dbms','mongodb')\n",
    "b=list(a)\n",
    "b.append(\"machine learning\")\n",
    "a= tuple(b)\n",
    "print(a)\n",
    "\n"
   ]
  },
  {
   "cell_type": "code",
   "execution_count": 2,
   "id": "77f42af2",
   "metadata": {},
   "outputs": [
    {
     "name": "stdout",
     "output_type": "stream",
     "text": [
      "('python', 'java', 'php', 'sql', 'dbms', 'mongodb', 'english')\n"
     ]
    }
   ],
   "source": [
    "# 2. Add tuple to a tuple. You are allowed to add tuples to tuples, so if you want to add one item, (or many), \n",
    "# create a new tuple with the item(s), and add it to the existing tuple:\n",
    "\n",
    "#Create a new tuple with the value \"english\", and add that tuple:\n",
    "tuple_a=('python','java','php','sql','dbms','mongodb')\n",
    "b= (\"english\",)\n",
    "tuple_a += b\n",
    "print(tuple_a)\n"
   ]
  },
  {
   "cell_type": "code",
   "execution_count": 26,
   "id": "9eff0988",
   "metadata": {},
   "outputs": [
    {
     "name": "stdout",
     "output_type": "stream",
     "text": [
      "('python', 'php', 'sql', 'dbms', 'mongodb')\n"
     ]
    }
   ],
   "source": [
    "#Remove Items\n",
    "#Tuples are unchangeable, so you cannot remove items from it, \n",
    "#but you can use the same workaround as we used for changing and adding tuple items:\n",
    "\n",
    "a=('python','java','php','sql','dbms','mongodb')\n",
    "b=list(a)\n",
    "b.remove(\"java\")\n",
    "a= tuple(b)\n",
    "print(a)\n"
   ]
  },
  {
   "cell_type": "code",
   "execution_count": 33,
   "id": "1f34c2e2",
   "metadata": {},
   "outputs": [],
   "source": [
    "#you can delete the tuple completely:\n",
    "#The del keyword can delete the tuple completely:\n",
    "a=('python','java','php','sql','dbms','mongodb')\n",
    "del a\n",
    "#print(a) #this will raise an error because the tuple no longer exists"
   ]
  },
  {
   "cell_type": "code",
   "execution_count": null,
   "id": "39a5f2b3",
   "metadata": {},
   "outputs": [],
   "source": []
  },
  {
   "cell_type": "markdown",
   "id": "354122ec",
   "metadata": {},
   "source": [
    "# Dictionary {}"
   ]
  },
  {
   "cell_type": "code",
   "execution_count": 6,
   "id": "eaf80777",
   "metadata": {},
   "outputs": [
    {
     "name": "stdout",
     "output_type": "stream",
     "text": [
      "{'rollno': 19, 'name': 'Prakash', 'subject': 'python'}\n"
     ]
    }
   ],
   "source": [
    "dic={\n",
    "    \"rollno\":19,\n",
    "    \"name\":\"Prakash\",\n",
    "    \"subject\":\"python\"\n",
    "    }\n",
    "print(dic)"
   ]
  },
  {
   "cell_type": "code",
   "execution_count": 12,
   "id": "85966b3e",
   "metadata": {},
   "outputs": [
    {
     "name": "stdout",
     "output_type": "stream",
     "text": [
      "python\n"
     ]
    }
   ],
   "source": [
    "# Dictionary items are ordered, changeable, and does not allow duplicates.\n",
    "\n",
    "# Dictionary items are presented in key:value pairs, and can be referred to by using the key name.\n",
    "\n",
    "dic={\n",
    "    \"rollno\":19,\n",
    "    \"name\":\"Prakash\",\n",
    "    \"subject\":\"python\"\n",
    "    }\n",
    "print(dic[\"subject\"])"
   ]
  },
  {
   "cell_type": "code",
   "execution_count": 14,
   "id": "4b848ef3",
   "metadata": {},
   "outputs": [
    {
     "name": "stdout",
     "output_type": "stream",
     "text": [
      "{'rollno': 19, 'name': 'Prakash', 'subject': 'python'}\n"
     ]
    }
   ],
   "source": [
    "#Dictionaries cannot have two items with the same key:\n",
    "\n",
    "dic={\n",
    "    \"rollno\":19,\n",
    "    \"name\":\"Prakash\",\n",
    "    \"subject\":\"python\",\n",
    "    \"subject\":\"python\"\n",
    "    }\n",
    "print(dic)"
   ]
  },
  {
   "cell_type": "code",
   "execution_count": 18,
   "id": "ad4528fd",
   "metadata": {},
   "outputs": [
    {
     "name": "stdout",
     "output_type": "stream",
     "text": [
      "dict_keys(['rollno', 'name', 'subject'])\n",
      "dict_keys(['rollno', 'name', 'subject', 'city'])\n"
     ]
    }
   ],
   "source": [
    "#Add a new item to the original dictionary, and see that the keys list gets updated as well:\n",
    "\n",
    "dic={\n",
    "    \"rollno\":19,\n",
    "    \"name\":\"Prakash\",\n",
    "    \"subject\":\"python\",\n",
    "    }\n",
    "x=dic.keys()\n",
    "\n",
    "print(x) #before the change\n",
    "\n",
    "dic[\"city\"]=\"mahuva\"\n",
    "\n",
    "print(x) #after the change\n"
   ]
  },
  {
   "cell_type": "code",
   "execution_count": 21,
   "id": "5edbbe0a",
   "metadata": {},
   "outputs": [
    {
     "data": {
      "text/plain": [
       "dict_values([19, 'Prakash', 'python', 'mahuva'])"
      ]
     },
     "execution_count": 21,
     "metadata": {},
     "output_type": "execute_result"
    }
   ],
   "source": [
    "#The values() method will return a list of all the values in the dictionary.\n",
    "\n",
    "x=dic.values()\n",
    "x"
   ]
  },
  {
   "cell_type": "code",
   "execution_count": 26,
   "id": "346fd0da",
   "metadata": {},
   "outputs": [
    {
     "name": "stdout",
     "output_type": "stream",
     "text": [
      "dict_values([19, 'Prakash', 'python'])\n",
      "dict_values([19, 'Prakash Gohil', 'python'])\n"
     ]
    }
   ],
   "source": [
    "#Make a change in the original dictionary, and see that the values list gets updated as well:\n",
    "#change values in dictionary \n",
    "\n",
    "dic={\n",
    "    \"rollno\":19,\n",
    "    \"name\":\"Prakash\",\n",
    "    \"subject\":\"python\",\n",
    "    }\n",
    "x = dic.values()\n",
    "\n",
    "print(x) #before the change\n",
    "\n",
    "dic[\"name\"] = \"Prakash Gohil\"\n",
    "\n",
    "print(x) #after the change "
   ]
  },
  {
   "cell_type": "code",
   "execution_count": 29,
   "id": "97f3def6",
   "metadata": {},
   "outputs": [
    {
     "name": "stdout",
     "output_type": "stream",
     "text": [
      "dict_items([('rollno', 19), ('name', 'Prakash'), ('subject', 'python')])\n"
     ]
    }
   ],
   "source": [
    "#The items() method will return each item in a dictionary, as tuples in a list.\n",
    "\n",
    "dic={\n",
    "    \"rollno\":19,\n",
    "    \"name\":\"Prakash\",\n",
    "    \"subject\":\"python\",\n",
    "    }\n",
    "print(dic.items())"
   ]
  },
  {
   "cell_type": "code",
   "execution_count": 32,
   "id": "3cb86a23",
   "metadata": {},
   "outputs": [
    {
     "name": "stdout",
     "output_type": "stream",
     "text": [
      "dict_items([('rollno', 18), ('name', 'Prakash'), ('subject', 'python')])\n",
      "dict_items([('rollno', 19), ('name', 'Prakash'), ('subject', 'python')])\n"
     ]
    }
   ],
   "source": [
    "#Make a change in the original dictionary, and see that the items list gets updated as well:\n",
    "dic={\n",
    "    \"rollno\":18,\n",
    "    \"name\":\"Prakash\",\n",
    "    \"subject\":\"python\",\n",
    "    }\n",
    "x = dic.items()\n",
    "\n",
    "print(x) #before the change  \n",
    "\n",
    "dic[\"rollno\"] = 19\n",
    "\n",
    "print(x)#after the change "
   ]
  },
  {
   "cell_type": "code",
   "execution_count": 45,
   "id": "eaf3cc67",
   "metadata": {},
   "outputs": [
    {
     "name": "stdout",
     "output_type": "stream",
     "text": [
      "dict_items([('rollno', 18), ('name', 'Prakash'), ('subject', 'python')])\n",
      "dict_items([('rollno', 18), ('name', 'Prakash'), ('subject', 'python'), ('city', 'mahuva')])\n"
     ]
    }
   ],
   "source": [
    "#Add a new item to the original dictionary, and see that the items list gets updated as well:\n",
    "#Add new key and value in dictionary\n",
    "#####ADD NEW ITEM######\n",
    "\n",
    "dic={\n",
    "    \"rollno\":18,\n",
    "    \"name\":\"Prakash\",\n",
    "    \"subject\":\"python\",\n",
    "    }\n",
    "x = dic.items()\n",
    "\n",
    "print(x) #before the change  \n",
    "\n",
    "dic[\"city\"] = \"mahuva\"\n",
    "\n",
    "print(x)#after the change \n"
   ]
  },
  {
   "cell_type": "code",
   "execution_count": 46,
   "id": "41bf7fca",
   "metadata": {},
   "outputs": [
    {
     "name": "stdout",
     "output_type": "stream",
     "text": [
      "Yes, 'name' is one of the keys in the thisdict dictionary\n"
     ]
    }
   ],
   "source": [
    "dic={\n",
    "    \"rollno\":18,\n",
    "    \"name\":\"Prakash\",\n",
    "    \"subject\":\"python\",\n",
    "    }\n",
    "if \"name\" in dic:\n",
    "    print(\"Yes, 'name' is one of the keys in the thisdict dictionary\")"
   ]
  },
  {
   "cell_type": "code",
   "execution_count": 47,
   "id": "64145824",
   "metadata": {},
   "outputs": [
    {
     "data": {
      "text/plain": [
       "{'rollno': 19, 'name': 'prakash gohil', 'subject': 'python'}"
      ]
     },
     "execution_count": 47,
     "metadata": {},
     "output_type": "execute_result"
    }
   ],
   "source": [
    "# Change Values\n",
    "# Change the \"name\" to prakash gohil:\n",
    "dic={\n",
    "    \"rollno\":19,\n",
    "    \"name\":\"Prakash\",\n",
    "    \"subject\":\"python\",\n",
    "    }\n",
    "dic[\"name\"] = \"prakash gohil\"\n",
    "dic\n"
   ]
  },
  {
   "cell_type": "code",
   "execution_count": 48,
   "id": "cdf2945d",
   "metadata": {},
   "outputs": [
    {
     "name": "stdout",
     "output_type": "stream",
     "text": [
      "{'rollno': 19, 'name': 'Prakash', 'subject': 'machine learning'}\n"
     ]
    }
   ],
   "source": [
    "#Update Dictionary\n",
    "#Update the \"subject\" of the student by using the update() method:\n",
    "dic={\n",
    "    \"rollno\":19,\n",
    "    \"name\":\"Prakash\",\n",
    "    \"subject\":\"python\",\n",
    "    }\n",
    "dic.update({\"subject\":\"machine learning\"})\n",
    "print(dic)"
   ]
  },
  {
   "cell_type": "code",
   "execution_count": 49,
   "id": "82959daf",
   "metadata": {},
   "outputs": [
    {
     "name": "stdout",
     "output_type": "stream",
     "text": [
      "{'rollno': 19, 'subject': 'python'}\n"
     ]
    }
   ],
   "source": [
    "#########Removing items########\n",
    "#The pop() method removes the item with the specified key name:\n",
    "dic={\n",
    "    \"rollno\":19,\n",
    "    \"name\":\"Prakash\",\n",
    "    \"subject\":\"python\",\n",
    "    }\n",
    "dic.pop(\"name\")\n",
    "print(dic)"
   ]
  },
  {
   "cell_type": "code",
   "execution_count": 51,
   "id": "14b2dcb8",
   "metadata": {},
   "outputs": [
    {
     "name": "stdout",
     "output_type": "stream",
     "text": [
      "{'rollno': 19, 'name': 'Prakash'}\n"
     ]
    }
   ],
   "source": [
    "#remove the last item \n",
    "#The popitem() method removes the last inserted item.\n",
    "dic={\n",
    "    \"rollno\":19,\n",
    "    \"name\":\"Prakash\",\n",
    "    \"subject\":\"python\",\n",
    "    }\n",
    "dic.popitem()\n",
    "print(dic)"
   ]
  },
  {
   "cell_type": "code",
   "execution_count": 52,
   "id": "0cb34b89",
   "metadata": {},
   "outputs": [
    {
     "data": {
      "text/plain": [
       "{'name': 'Prakash', 'subject': 'python'}"
      ]
     },
     "execution_count": 52,
     "metadata": {},
     "output_type": "execute_result"
    }
   ],
   "source": [
    "#The del keyword removes the item with the specified key name:\n",
    "\n",
    "dic={\n",
    "    \"rollno\":19,\n",
    "    \"name\":\"Prakash\",\n",
    "    \"subject\":\"python\",\n",
    "    }\n",
    "del dic[\"rollno\"]\n",
    "dic"
   ]
  },
  {
   "cell_type": "code",
   "execution_count": 59,
   "id": "361ab314",
   "metadata": {},
   "outputs": [
    {
     "ename": "NameError",
     "evalue": "name 'dic' is not defined",
     "output_type": "error",
     "traceback": [
      "\u001b[1;31m---------------------------------------------------------------------------\u001b[0m",
      "\u001b[1;31mNameError\u001b[0m                                 Traceback (most recent call last)",
      "\u001b[1;32m~\\AppData\\Local\\Temp/ipykernel_9820/2082831545.py\u001b[0m in \u001b[0;36m<module>\u001b[1;34m\u001b[0m\n\u001b[0;32m      6\u001b[0m     }\n\u001b[0;32m      7\u001b[0m \u001b[1;32mdel\u001b[0m \u001b[0mdic\u001b[0m\u001b[1;33m\u001b[0m\u001b[1;33m\u001b[0m\u001b[0m\n\u001b[1;32m----> 8\u001b[1;33m \u001b[0mprint\u001b[0m\u001b[1;33m(\u001b[0m\u001b[0mdic\u001b[0m\u001b[1;33m)\u001b[0m \u001b[1;31m#this will cause an error because \"thisdict\" no longer exists.\u001b[0m\u001b[1;33m\u001b[0m\u001b[1;33m\u001b[0m\u001b[0m\n\u001b[0m",
      "\u001b[1;31mNameError\u001b[0m: name 'dic' is not defined"
     ]
    }
   ],
   "source": [
    "#The del keyword can also delete the dictionary completely:\n",
    "dic={\n",
    "    \"rollno\":19,\n",
    "    \"name\":\"Prakash\",\n",
    "    \"subject\":\"python\",\n",
    "    }\n",
    "del dic\n",
    "print(dic) #this will cause an error because \"thisdict\" no longer exists."
   ]
  },
  {
   "cell_type": "code",
   "execution_count": 62,
   "id": "26a8c12c",
   "metadata": {},
   "outputs": [
    {
     "name": "stdout",
     "output_type": "stream",
     "text": [
      "{}\n"
     ]
    }
   ],
   "source": [
    "#The clear() method empties the dictionary:\n",
    "#only remove the all item from dictionary.\n",
    "\n",
    "dic={\n",
    "    \"rollno\":19,\n",
    "    \"name\":\"Prakash\",\n",
    "    \"subject\":\"python\",\n",
    "    }\n",
    "dic.clear()\n",
    "print(dic)\n",
    "    "
   ]
  },
  {
   "cell_type": "code",
   "execution_count": null,
   "id": "8d303cf2",
   "metadata": {},
   "outputs": [],
   "source": []
  },
  {
   "cell_type": "code",
   "execution_count": null,
   "id": "e0458ad5",
   "metadata": {},
   "outputs": [],
   "source": []
  },
  {
   "cell_type": "code",
   "execution_count": null,
   "id": "89b6dce2",
   "metadata": {},
   "outputs": [],
   "source": []
  },
  {
   "cell_type": "code",
   "execution_count": null,
   "id": "ac6c9d2c",
   "metadata": {},
   "outputs": [],
   "source": []
  },
  {
   "cell_type": "code",
   "execution_count": 20,
   "id": "f3099cfb",
   "metadata": {},
   "outputs": [
    {
     "name": "stdout",
     "output_type": "stream",
     "text": [
      "Enter value:-5\n",
      "3.106855\n"
     ]
    }
   ],
   "source": [
    "#write a program covert kilommeter to mile?\n",
    "\n",
    "km=float(input(\"Enter value:-\"))\n",
    "mile=0.621371\n",
    "miles = km*mile\n",
    "print(miles)\n"
   ]
  },
  {
   "cell_type": "code",
   "execution_count": 21,
   "id": "ef762415",
   "metadata": {},
   "outputs": [
    {
     "name": "stdout",
     "output_type": "stream",
     "text": [
      "Enter value:-5\n",
      "41.0\n"
     ]
    }
   ],
   "source": [
    "#write a program convert celsius to fahrenheit ?\n",
    "\n",
    "cel=int(input(\"Enter value:-\"))\n",
    "far=(cel*9/5)+32\n",
    "print(far)"
   ]
  },
  {
   "cell_type": "code",
   "execution_count": 22,
   "id": "651d79ae",
   "metadata": {},
   "outputs": [
    {
     "name": "stdout",
     "output_type": "stream",
     "text": [
      "   December 2022\n",
      "Mo Tu We Th Fr Sa Su\n",
      "          1  2  3  4\n",
      " 5  6  7  8  9 10 11\n",
      "12 13 14 15 16 17 18\n",
      "19 20 21 22 23 24 25\n",
      "26 27 28 29 30 31\n",
      "\n"
     ]
    }
   ],
   "source": [
    "#write program to display calendar?\n",
    "import calendar\n",
    "\n",
    "yy=2022\n",
    "mm=12\n",
    "\n",
    "print(calendar.month(yy,mm))"
   ]
  },
  {
   "cell_type": "code",
   "execution_count": 37,
   "id": "92138965",
   "metadata": {},
   "outputs": [
    {
     "name": "stdout",
     "output_type": "stream",
     "text": [
      "The calendar of year 2018 is : \n",
      "                                 2018\n",
      "\n",
      "      January                  February                  March\n",
      "Mo Tu We Th Fr Sa Su     Mo Tu We Th Fr Sa Su     Mo Tu We Th Fr Sa Su\n",
      " 1  2  3  4  5  6  7               1  2  3  4               1  2  3  4\n",
      " 8  9 10 11 12 13 14      5  6  7  8  9 10 11      5  6  7  8  9 10 11\n",
      "15 16 17 18 19 20 21     12 13 14 15 16 17 18     12 13 14 15 16 17 18\n",
      "22 23 24 25 26 27 28     19 20 21 22 23 24 25     19 20 21 22 23 24 25\n",
      "29 30 31                 26 27 28                 26 27 28 29 30 31\n",
      "\n",
      "       April                     May                      June\n",
      "Mo Tu We Th Fr Sa Su     Mo Tu We Th Fr Sa Su     Mo Tu We Th Fr Sa Su\n",
      "                   1         1  2  3  4  5  6                  1  2  3\n",
      " 2  3  4  5  6  7  8      7  8  9 10 11 12 13      4  5  6  7  8  9 10\n",
      " 9 10 11 12 13 14 15     14 15 16 17 18 19 20     11 12 13 14 15 16 17\n",
      "16 17 18 19 20 21 22     21 22 23 24 25 26 27     18 19 20 21 22 23 24\n",
      "23 24 25 26 27 28 29     28 29 30 31              25 26 27 28 29 30\n",
      "30\n",
      "\n",
      "        July                    August                 September\n",
      "Mo Tu We Th Fr Sa Su     Mo Tu We Th Fr Sa Su     Mo Tu We Th Fr Sa Su\n",
      "                   1            1  2  3  4  5                     1  2\n",
      " 2  3  4  5  6  7  8      6  7  8  9 10 11 12      3  4  5  6  7  8  9\n",
      " 9 10 11 12 13 14 15     13 14 15 16 17 18 19     10 11 12 13 14 15 16\n",
      "16 17 18 19 20 21 22     20 21 22 23 24 25 26     17 18 19 20 21 22 23\n",
      "23 24 25 26 27 28 29     27 28 29 30 31           24 25 26 27 28 29 30\n",
      "30 31\n",
      "\n",
      "      October                  November                 December\n",
      "Mo Tu We Th Fr Sa Su     Mo Tu We Th Fr Sa Su     Mo Tu We Th Fr Sa Su\n",
      " 1  2  3  4  5  6  7               1  2  3  4                     1  2\n",
      " 8  9 10 11 12 13 14      5  6  7  8  9 10 11      3  4  5  6  7  8  9\n",
      "15 16 17 18 19 20 21     12 13 14 15 16 17 18     10 11 12 13 14 15 16\n",
      "22 23 24 25 26 27 28     19 20 21 22 23 24 25     17 18 19 20 21 22 23\n",
      "29 30 31                 26 27 28 29 30           24 25 26 27 28 29 30\n",
      "                                                  31\n",
      "\n"
     ]
    }
   ],
   "source": [
    "# Python code to demonstrate the working of\n",
    "# calendar() function to print calendar\n",
    "\n",
    "# importing calendar module\n",
    "# for calendar operations\n",
    "import calendar\n",
    "\n",
    "# using calendar to print calendar of year\n",
    "# prints calendar of 2018\n",
    "print (\"The calendar of year 2018 is : \")\n",
    "print (calendar.calendar(2018, 2, 1, 5))\n"
   ]
  },
  {
   "cell_type": "code",
   "execution_count": 63,
   "id": "1709327b",
   "metadata": {},
   "outputs": [
    {
     "name": "stdout",
     "output_type": "stream",
     "text": [
      "The solution are (-3+0j) and (-2+0j)\n"
     ]
    }
   ],
   "source": [
    "#write a python program to solve quadratic equation?\n",
    "#confusion in this program \n",
    "\n",
    "# import complex math module\n",
    "import cmath\n",
    "\n",
    "a = 1\n",
    "b = 5\n",
    "c = 6\n",
    "\n",
    "# calculate the discriminant\n",
    "d = (b**2) - (4*a*c)\n",
    "\n",
    "# find two solutions\n",
    "sol1 = (-b-cmath.sqrt(d))/(2*a)\n",
    "sol2 = (-b+cmath.sqrt(d))/(2*a)\n",
    "\n",
    "print('The solution are {0} and {1}'.format(sol1,sol2))\n"
   ]
  },
  {
   "cell_type": "code",
   "execution_count": 65,
   "id": "ae4a3cf6",
   "metadata": {},
   "outputs": [
    {
     "name": "stdout",
     "output_type": "stream",
     "text": [
      "x = 10\n",
      "y = 5\n"
     ]
    }
   ],
   "source": [
    "#write a python program to swap two variables without temp variable\n",
    "\n",
    "x = 5\n",
    "y = 10\n",
    "\n",
    "x, y = y, x\n",
    "print(\"x =\", x)\n",
    "print(\"y =\", y)\n"
   ]
  },
  {
   "cell_type": "code",
   "execution_count": null,
   "id": "818597f4",
   "metadata": {},
   "outputs": [],
   "source": []
  }
 ],
 "metadata": {
  "kernelspec": {
   "display_name": "Python 3 (ipykernel)",
   "language": "python",
   "name": "python3"
  },
  "language_info": {
   "codemirror_mode": {
    "name": "ipython",
    "version": 3
   },
   "file_extension": ".py",
   "mimetype": "text/x-python",
   "name": "python",
   "nbconvert_exporter": "python",
   "pygments_lexer": "ipython3",
   "version": "3.10.1"
  }
 },
 "nbformat": 4,
 "nbformat_minor": 5
}
